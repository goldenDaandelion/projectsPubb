{
  "nbformat": 4,
  "nbformat_minor": 0,
  "metadata": {
    "colab": {
      "provenance": [],
      "authorship_tag": "ABX9TyMptv4pq87gdhVXSdT3lwvG"
    },
    "kernelspec": {
      "name": "python3",
      "display_name": "Python 3"
    },
    "language_info": {
      "name": "python"
    }
  },
  "cells": [
    {
      "cell_type": "code",
      "execution_count": 1,
      "metadata": {
        "id": "vCv0hMhpuqMe"
      },
      "outputs": [],
      "source": [
        "#fghj"
      ]
    },
    {
      "cell_type": "code",
      "source": [
        "import tensorflow as tf\n",
        "import tensorflow_hub as hub\n",
        "from PIL import Image\n",
        "from PIL import ImageOps\n",
        "import tempfile\n",
        "from six.moves.urllib.request import urlopen\n",
        "from six import BytesIO"
      ],
      "metadata": {
        "id": "9h0iE_LFy0Cn"
      },
      "execution_count": 2,
      "outputs": []
    },
    {
      "cell_type": "code",
      "source": [
        "# you can switch the commented lines here to pick the other model\n",
        "\n",
        "# inception resnet version 2\n",
        "module_handle = \"https://tfhub.dev/google/faster_rcnn/openimages_v4/inception_resnet_v2/1\"\n",
        "\n",
        "# You can choose ssd mobilenet version 2 instead and compare the results\n",
        "#module_handle = \"https://tfhub.dev/google/openimages_v4/ssd/mobilenet_v2/1\""
      ],
      "metadata": {
        "id": "zU4W_DTPy0F0"
      },
      "execution_count": 3,
      "outputs": []
    },
    {
      "cell_type": "code",
      "source": [
        "model = hub.load(module_handle)"
      ],
      "metadata": {
        "id": "_gfeB0mky0oy"
      },
      "execution_count": 4,
      "outputs": []
    },
    {
      "cell_type": "code",
      "source": [
        "model.signatures.keys()"
      ],
      "metadata": {
        "colab": {
          "base_uri": "https://localhost:8080/"
        },
        "id": "Wa7YA9qMzlnc",
        "outputId": "6e6acce7-1edd-480e-b73c-36f921307958"
      },
      "execution_count": 6,
      "outputs": [
        {
          "output_type": "execute_result",
          "data": {
            "text/plain": [
              "KeysView(_SignatureMap({'default': <ConcreteFunction pruned(images) at 0x7F8E789DBD00>}))"
            ]
          },
          "metadata": {},
          "execution_count": 6
        }
      ]
    },
    {
      "cell_type": "code",
      "source": [
        "detector = model.signatures['default']"
      ],
      "metadata": {
        "id": "0oBzi-5Dy0qP"
      },
      "execution_count": 11,
      "outputs": []
    },
    {
      "cell_type": "code",
      "source": [
        "def download_and_resize_image(url, new_width=256, new_height=256):\n",
        "    '''\n",
        "    Fetches an image online, resizes it and saves it locally.\n",
        "    \n",
        "    Args:\n",
        "        url (string) -- link to the image\n",
        "        new_width (int) -- size in pixels used for resizing the width of the image\n",
        "        new_height (int) -- size in pixels used for resizing the length of the image\n",
        "        \n",
        "    Returns:\n",
        "        (string) -- path to the saved image\n",
        "    '''\n",
        "    \n",
        "    \n",
        "    # create a temporary file ending with \".jpg\"\n",
        "    _, filename = tempfile.mkstemp(suffix=\".jpg\")\n",
        "    \n",
        "    # opens the given URL\n",
        "    response = urlopen(url)\n",
        "    \n",
        "    # reads the image fetched from the URL\n",
        "    image_data = response.read()\n",
        "    \n",
        "    # puts the image data in memory buffer\n",
        "    image_data = BytesIO(image_data)\n",
        "    \n",
        "    # opens the image\n",
        "    pil_image = Image.open(image_data)\n",
        "    \n",
        "    # resizes the image. will crop if aspect ratio is different.\n",
        "    pil_image = ImageOps.fit(pil_image, (new_width, new_height), Image.ANTIALIAS)\n",
        "    \n",
        "    # converts to the RGB colorspace\n",
        "    pil_image_rgb = pil_image.convert(\"RGB\")\n",
        "    \n",
        "    # saves the image to the temporary file created earlier\n",
        "    pil_image_rgb.save(filename, format=\"JPEG\", quality=90)\n",
        "    \n",
        "    print(\"Image downloaded to %s.\" % filename)\n",
        "    \n",
        "    return filename"
      ],
      "metadata": {
        "id": "Da6oA972y0qz"
      },
      "execution_count": 7,
      "outputs": []
    },
    {
      "cell_type": "code",
      "source": [
        "# You can choose a different URL that points to an image of your choice\n",
        "image_url = \"https://upload.wikimedia.org/wikipedia/commons/f/fb/20130807_dublin014.JPG\"\n",
        "\n",
        "# download the image and use the original height and width\n",
        "downloaded_image_path = download_and_resize_image(image_url, 3872, 2592)"
      ],
      "metadata": {
        "colab": {
          "base_uri": "https://localhost:8080/"
        },
        "id": "QUy2biDpy0rX",
        "outputId": "dfcdd065-596f-4392-8f71-28633b73ec42"
      },
      "execution_count": 8,
      "outputs": [
        {
          "output_type": "stream",
          "name": "stdout",
          "text": [
            "Image downloaded to /tmp/tmpnsnw_ngq.jpg.\n"
          ]
        }
      ]
    },
    {
      "cell_type": "code",
      "source": [
        "def load_img(path):\n",
        "    '''\n",
        "    Loads a JPEG image and converts it to a tensor.\n",
        "    \n",
        "    Args:\n",
        "        path (string) -- path to a locally saved JPEG image\n",
        "    \n",
        "    Returns:\n",
        "        (tensor) -- an image tensor\n",
        "    '''\n",
        "    \n",
        "    # read the file\n",
        "    img = tf.io.read_file(path)\n",
        "    \n",
        "    # convert to a tensor\n",
        "    img = tf.image.decode_jpeg(img, channels=3)\n",
        "    \n",
        "    return img\n",
        "\n",
        "\n",
        "def run_detector(detector, path):\n",
        "    '''\n",
        "    Runs inference on a local file using an object detection model.\n",
        "    \n",
        "    Args:\n",
        "        detector (model) -- an object detection model loaded from TF Hub\n",
        "        path (string) -- path to an image saved locally\n",
        "    '''\n",
        "    \n",
        "    # load an image tensor from a local file path\n",
        "    img = load_img(path)\n",
        "\n",
        "    # add a batch dimension in front of the tensor\n",
        "    converted_img  = tf.image.convert_image_dtype(img, tf.float32)[tf.newaxis, ...]\n",
        "    \n",
        "    # run inference using the model\n",
        "    result = detector(converted_img)\n",
        "\n",
        "    # save the results in a dictionary\n",
        "    result = {key:value.numpy() for key,value in result.items()}\n",
        "\n",
        "    # print results\n",
        "    print(\"Found %d objects.\" % len(result[\"detection_scores\"]))\n",
        "\n",
        "    print(result[\"detection_scores\"])\n",
        "    print(result[\"detection_class_entities\"])\n",
        "    print(result[\"detection_boxes\"])\n"
      ],
      "metadata": {
        "id": "lZcXbmz7y0sE"
      },
      "execution_count": 12,
      "outputs": []
    },
    {
      "cell_type": "code",
      "source": [
        "# runs the object detection model and prints information about the objects found\n",
        "run_detector(detector, downloaded_image_path)"
      ],
      "metadata": {
        "colab": {
          "base_uri": "https://localhost:8080/"
        },
        "id": "o8I2dneSy1yz",
        "outputId": "686081f5-e68d-4121-a3a5-7b96fa181d06"
      },
      "execution_count": 13,
      "outputs": [
        {
          "output_type": "stream",
          "name": "stdout",
          "text": [
            "Found 100 objects.\n",
            "[0.65321755 0.6105044  0.6015257  0.5925565  0.59177715 0.58154935\n",
            " 0.5505316  0.49575576 0.47424877 0.47322184 0.44066516 0.40511423\n",
            " 0.39803788 0.39406568 0.3714853  0.3615593  0.3615071  0.34689158\n",
            " 0.33362216 0.31252843 0.2887797  0.25758243 0.2574886  0.2519606\n",
            " 0.24782136 0.23412377 0.20431975 0.20324676 0.17988248 0.17964779\n",
            " 0.17374572 0.16431473 0.1603114  0.15895231 0.15620404 0.1546884\n",
            " 0.1475448  0.13622677 0.12740056 0.12555611 0.1210271  0.11813046\n",
            " 0.11387327 0.11229134 0.11129139 0.09718708 0.09137256 0.08976037\n",
            " 0.08880259 0.08633586 0.08337478 0.0809518  0.07988787 0.07741443\n",
            " 0.0773216  0.07631017 0.07507854 0.0738608  0.0723334  0.07204108\n",
            " 0.07110199 0.06935615 0.068256   0.06427874 0.06248545 0.06226397\n",
            " 0.06211134 0.05940052 0.05798776 0.05784459 0.05725625 0.05346687\n",
            " 0.05304344 0.05242874 0.04892622 0.04813048 0.04578416 0.04424165\n",
            " 0.04337565 0.04277812 0.04262631 0.04163568 0.04081763 0.03975999\n",
            " 0.03945964 0.03944279 0.0386399  0.0376906  0.03759602 0.03566739\n",
            " 0.03359374 0.03333249 0.03275881 0.03231562 0.03134318 0.02978723\n",
            " 0.0285838  0.02856155 0.02822335 0.02787881]\n",
            "[b'Person' b'Person' b'Person' b'Person' b'Footwear' b'Person' b'Building'\n",
            " b'Bicycle' b'Window' b'Building' b'Person' b'Wheel' b'Building'\n",
            " b'Building' b'Person' b'Wheel' b'Building' b'Window' b'Window'\n",
            " b'Building' b'Person' b'Van' b'Person' b'Bicycle wheel' b'Person'\n",
            " b'Window' b'Window' b'Bicycle' b'Building' b'Window' b'Window' b'Man'\n",
            " b'Person' b'Person' b'Woman' b'Clothing' b'Bicycle wheel' b'Window'\n",
            " b'Person' b'Window' b'Land vehicle' b'Land vehicle' b'Clothing'\n",
            " b'Bicycle' b'Window' b'House' b'Land vehicle' b'Land vehicle' b'House'\n",
            " b'Man' b'Window' b'Clothing' b'Footwear' b'Person' b'Window' b'Man'\n",
            " b'Man' b'House' b'Person' b'Building' b'Clothing' b'Window' b'Person'\n",
            " b'Jeans' b'Man' b'Furniture' b'Person' b'Person' b'Person'\n",
            " b'Land vehicle' b'Person' b'Window' b'House' b'Woman' b'Window' b'Man'\n",
            " b'Person' b'Man' b'Clothing' b'Bicycle' b'Man' b'Person' b'Window'\n",
            " b'Person' b'Car' b'Man' b'Car' b'Chair' b'House' b'Window' b'Clothing'\n",
            " b'Tire' b'Clothing' b'Window' b'Land vehicle' b'Window' b'Man' b'Window'\n",
            " b'Bus' b'Clothing']\n",
            "[[5.12787819e-01 5.29258847e-01 6.01622522e-01 5.52077651e-01]\n",
            " [5.19631147e-01 6.01512671e-01 6.46177173e-01 6.34626806e-01]\n",
            " [5.05507112e-01 5.00440896e-01 6.01288378e-01 5.23084342e-01]\n",
            " [4.86331582e-01 4.12729561e-01 6.78829789e-01 4.59919751e-01]\n",
            " [8.15191388e-01 9.56122220e-01 8.42702985e-01 9.87146080e-01]\n",
            " [4.95409876e-01 9.23548341e-01 8.35687876e-01 9.99051571e-01]\n",
            " [1.14792129e-02 1.22223413e-02 7.38669753e-01 4.24632907e-01]\n",
            " [5.77677429e-01 3.66453379e-01 7.12771714e-01 4.83375698e-01]\n",
            " [0.00000000e+00 1.19262360e-01 2.23896101e-01 1.83930472e-01]\n",
            " [7.74121135e-02 4.12998140e-01 5.79539895e-01 5.60446203e-01]\n",
            " [5.13818145e-01 7.48031378e-01 5.91993213e-01 7.66611159e-01]\n",
            " [6.32137895e-01 3.59925538e-01 7.03870296e-01 4.11826104e-01]\n",
            " [0.00000000e+00 7.97051966e-01 6.73368275e-01 1.00000000e+00]\n",
            " [1.60234068e-02 6.84869528e-01 5.58761537e-01 8.11167896e-01]\n",
            " [5.00276983e-01 3.76966298e-01 6.33272946e-01 4.14501339e-01]\n",
            " [6.40540302e-01 4.45089400e-01 7.02983618e-01 4.83437657e-01]\n",
            " [0.00000000e+00 2.19054237e-01 6.60401046e-01 4.33263451e-01]\n",
            " [1.93080271e-03 0.00000000e+00 1.39376864e-01 2.62956936e-02]\n",
            " [2.57198350e-03 9.66668665e-01 1.53728664e-01 1.00000000e+00]\n",
            " [5.57225547e-04 1.52056559e-03 7.65210569e-01 2.69977152e-01]\n",
            " [5.04524827e-01 3.61187786e-01 6.34731770e-01 3.85342181e-01]\n",
            " [4.83405828e-01 6.19650960e-01 5.62705755e-01 6.61556184e-01]\n",
            " [4.98067290e-01 3.64576221e-01 6.61239386e-01 4.04972374e-01]\n",
            " [6.31278813e-01 3.60364228e-01 7.04153776e-01 4.11501318e-01]\n",
            " [5.21813869e-01 5.77647567e-01 5.87599933e-01 6.00718856e-01]\n",
            " [2.19569609e-01 3.48744750e-01 3.38372618e-01 3.77075404e-01]\n",
            " [1.24863066e-01 2.50912935e-01 2.79940844e-01 2.81580776e-01]\n",
            " [5.77186048e-01 3.62296671e-01 7.07020819e-01 4.41811115e-01]\n",
            " [2.57474333e-01 5.67561567e-01 5.31102896e-01 6.87727273e-01]\n",
            " [4.20639627e-02 8.74773145e-01 2.52773464e-01 9.13028836e-01]\n",
            " [1.56351030e-01 4.43401158e-01 2.22213238e-01 4.75786090e-01]\n",
            " [5.01968026e-01 9.21486855e-01 8.36406708e-01 1.00000000e+00]\n",
            " [5.23622513e-01 5.70259511e-01 5.84519386e-01 5.91583431e-01]\n",
            " [5.13246357e-01 6.79276407e-01 5.50994575e-01 6.92579925e-01]\n",
            " [5.19120276e-01 5.99985421e-01 6.46378398e-01 6.34036481e-01]\n",
            " [5.24297833e-01 9.24962103e-01 8.10777068e-01 9.97999489e-01]\n",
            " [6.38187289e-01 4.42918181e-01 7.01653838e-01 4.84097719e-01]\n",
            " [3.42190564e-02 3.55574757e-01 1.62255093e-01 3.74921143e-01]\n",
            " [4.88476783e-01 4.53496963e-01 6.21795475e-01 4.79725718e-01]\n",
            " [9.28815221e-04 3.07699054e-01 1.06533386e-01 3.32059622e-01]\n",
            " [4.83008981e-01 6.19908333e-01 5.64775169e-01 6.60696983e-01]\n",
            " [5.82192898e-01 3.64929795e-01 7.13880718e-01 4.84707832e-01]\n",
            " [5.23547709e-01 7.49199331e-01 5.85378170e-01 7.65317559e-01]\n",
            " [6.09156787e-01 4.26705897e-01 7.05165207e-01 4.87089008e-01]\n",
            " [3.51368576e-01 9.74856138e-01 5.53130746e-01 9.98878777e-01]\n",
            " [0.00000000e+00 8.11223269e-01 6.86410904e-01 9.97151375e-01]\n",
            " [5.76297641e-01 3.57461780e-01 7.04812348e-01 4.40279871e-01]\n",
            " [5.64892411e-01 3.63023102e-01 7.08650172e-01 4.16036338e-01]\n",
            " [1.09374998e-02 2.33155508e-02 7.26522923e-01 4.21747774e-01]\n",
            " [4.84686643e-01 4.10685986e-01 6.94686532e-01 4.63092804e-01]\n",
            " [8.09777379e-02 3.84715289e-01 2.07808718e-01 4.11746383e-01]\n",
            " [5.38284421e-01 6.03573740e-01 6.34776115e-01 6.34408653e-01]\n",
            " [6.29844606e-01 6.14971519e-01 6.44933462e-01 6.25384450e-01]\n",
            " [5.02758026e-01 3.82395953e-01 5.96146226e-01 4.12722319e-01]\n",
            " [0.00000000e+00 1.24522941e-02 1.40193507e-01 2.47382093e-02]\n",
            " [5.14441311e-01 7.47791588e-01 5.91985822e-01 7.66827345e-01]\n",
            " [5.06182134e-01 5.00406921e-01 6.00681365e-01 5.23312032e-01]\n",
            " [0.00000000e+00 2.11283579e-01 6.50794208e-01 4.34300780e-01]\n",
            " [4.89451557e-01 4.54391301e-01 5.72340131e-01 4.76470768e-01]\n",
            " [0.00000000e+00 7.06215680e-01 6.16998434e-01 8.66189241e-01]\n",
            " [5.09172916e-01 4.16281253e-01 6.69304490e-01 4.59598780e-01]\n",
            " [4.65171179e-03 8.03094208e-01 1.59853593e-01 8.40397060e-01]\n",
            " [5.26151001e-01 5.68352938e-01 5.79440355e-01 5.82810223e-01]\n",
            " [6.71924829e-01 9.40277696e-01 8.21276009e-01 9.89250779e-01]\n",
            " [5.02770185e-01 3.73883098e-01 6.46991491e-01 4.12972301e-01]\n",
            " [5.74243903e-01 2.67400920e-01 6.57769084e-01 3.20318580e-01]\n",
            " [4.86056745e-01 4.44508821e-01 6.24788821e-01 4.73503381e-01]\n",
            " [5.17248929e-01 7.56969154e-01 5.88517249e-01 7.71465540e-01]\n",
            " [5.23374975e-01 5.57850122e-01 5.79139531e-01 5.73541582e-01]\n",
            " [6.12461030e-01 4.27332461e-01 7.06080198e-01 4.88251865e-01]\n",
            " [5.24124146e-01 5.61553180e-01 5.78385353e-01 5.80475152e-01]\n",
            " [0.00000000e+00 2.44231746e-01 6.07754774e-02 2.93613434e-01]\n",
            " [1.48920957e-02 2.14740215e-03 7.45441914e-01 2.59790719e-01]\n",
            " [4.93236095e-01 9.23950255e-01 8.37110817e-01 9.97754931e-01]\n",
            " [8.37683864e-03 2.42165744e-01 4.97285277e-02 2.83162564e-01]\n",
            " [5.05334914e-01 3.60175282e-01 6.43561006e-01 3.91461790e-01]\n",
            " [5.13099074e-01 5.23794115e-01 6.00504339e-01 5.42967975e-01]\n",
            " [5.20421326e-01 6.00978673e-01 6.46124125e-01 6.34366393e-01]\n",
            " [5.18224835e-01 5.03395557e-01 5.97548664e-01 5.22683859e-01]\n",
            " [5.94199121e-01 3.61327976e-01 7.05465913e-01 4.15853351e-01]\n",
            " [5.13256371e-01 6.79316878e-01 5.50534010e-01 6.92482233e-01]\n",
            " [5.22302687e-01 5.36195457e-01 5.97564995e-01 5.53163290e-01]\n",
            " [4.29876357e-01 8.28702271e-01 5.89928269e-01 8.64323139e-01]\n",
            " [5.04884601e-01 3.89427006e-01 6.15080714e-01 4.19936121e-01]\n",
            " [5.26588559e-01 6.27176881e-01 5.63299775e-01 6.53728902e-01]\n",
            " [5.01304924e-01 3.64189029e-01 6.59964740e-01 4.03793275e-01]\n",
            " [5.15171111e-01 6.24104798e-01 5.63795388e-01 6.58002079e-01]\n",
            " [5.73137939e-01 2.66902655e-01 6.66162014e-01 3.18640232e-01]\n",
            " [8.34235922e-02 4.07414347e-01 5.84092319e-01 5.58522820e-01]\n",
            " [2.88196921e-01 4.77986701e-04 4.14364636e-01 3.65995876e-02]\n",
            " [4.97272849e-01 4.55296665e-01 5.83817124e-01 4.77936029e-01]\n",
            " [6.27167940e-01 3.61024022e-01 7.05996752e-01 4.09780145e-01]\n",
            " [5.15861034e-01 3.80057007e-01 5.96893728e-01 4.11758304e-01]\n",
            " [1.18098073e-02 3.08121800e-01 9.72859561e-02 3.25038970e-01]\n",
            " [5.12501717e-01 6.23653293e-01 5.62422156e-01 6.57641828e-01]\n",
            " [4.01003122e-01 8.85088921e-01 5.81281662e-01 9.39214408e-01]\n",
            " [5.13853133e-01 5.29484630e-01 6.02009714e-01 5.52362800e-01]\n",
            " [0.00000000e+00 1.00605981e-02 1.36156827e-01 3.16007212e-02]\n",
            " [4.80426282e-01 6.20422840e-01 5.65284610e-01 6.60150349e-01]\n",
            " [5.19355476e-01 3.61840427e-01 6.24995410e-01 3.84919703e-01]]\n"
          ]
        }
      ]
    },
    {
      "cell_type": "code",
      "source": [],
      "metadata": {
        "id": "SoT1rx0Sy115"
      },
      "execution_count": null,
      "outputs": []
    },
    {
      "cell_type": "code",
      "source": [],
      "metadata": {
        "id": "nmPo89qPy15S"
      },
      "execution_count": null,
      "outputs": []
    },
    {
      "cell_type": "code",
      "source": [],
      "metadata": {
        "id": "yMXm9qP_y18N"
      },
      "execution_count": null,
      "outputs": []
    },
    {
      "cell_type": "code",
      "source": [],
      "metadata": {
        "id": "_K3LC_VTy1_V"
      },
      "execution_count": null,
      "outputs": []
    },
    {
      "cell_type": "code",
      "source": [],
      "metadata": {
        "id": "9CTutmioy2C6"
      },
      "execution_count": null,
      "outputs": []
    }
  ]
}